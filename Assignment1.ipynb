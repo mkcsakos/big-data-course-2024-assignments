{
 "cells": [
  {
   "cell_type": "markdown",
   "id": "84f5743d",
   "metadata": {},
   "source": [
    "### Before you begin\n",
    "\n",
    "To check whether the code you've written is correct, we'll use **automark**. For this, we created for each of you an account with the username being your student number."
   ]
  },
  {
   "cell_type": "code",
   "execution_count": null,
   "id": "c94b006b",
   "metadata": {},
   "outputs": [],
   "source": [
    "import automark as am\n",
    "\n",
    "# fill in you student number as your username\n",
    "am.configure(username='15250008')\n",
    "\n",
    "# to check your progress, you can run this function\n",
    "am.get_progress()"
   ]
  },
  {
   "cell_type": "markdown",
   "id": "2100ce66",
   "metadata": {},
   "source": [
    "## Settings things up for the excerises\n",
    "\n",
    "In this assignment, we work with an example database consisting of the following six tables:\n",
    "\n",
    "<img src=\"schema.png\" alt=\"Schema of the Database\" width=\"900\"/>"
   ]
  },
  {
   "cell_type": "markdown",
   "id": "75e47375",
   "metadata": {},
   "source": [
    "### DuckDB\n",
    "\n",
    "We will query this database with [DuckDB](https://duckdb.org/), an embeddable analytical database management system, developed by the [CWI Amsterdam](https://www.cwi.nl/research/groups/database-architectures). \n",
    "\n",
    "DuckDB is designed to be easy to install and allows to seamlessly work in a jupyter notebook.\n",
    "\n",
    "DuckDB also provides a [SQL Introduction](https://duckdb.org/docs/sql/introduction) that you can refer to when working on this assignment."
   ]
  },
  {
   "cell_type": "code",
   "execution_count": null,
   "id": "b4cf90f9",
   "metadata": {},
   "outputs": [],
   "source": [
    "import duckdb"
   ]
  },
  {
   "cell_type": "markdown",
   "id": "4bf4a5e9",
   "metadata": {},
   "source": [
    "We connect to an in-memory database."
   ]
  },
  {
   "cell_type": "code",
   "execution_count": null,
   "id": "ce496c0d",
   "metadata": {},
   "outputs": [],
   "source": [
    "con = duckdb.connect(database=':memory:')"
   ]
  },
  {
   "cell_type": "markdown",
   "id": "4d382adc",
   "metadata": {},
   "source": [
    "Next, we create all the relations using SQL"
   ]
  },
  {
   "cell_type": "code",
   "execution_count": null,
   "id": "b71643a7",
   "metadata": {},
   "outputs": [],
   "source": [
    "# Customers Table\n",
    "con.execute('''\n",
    "CREATE TABLE IF NOT EXISTS customers (\n",
    "    customer_id char(10) NOT NULL,\n",
    "    firstname varchar(32) default NULL,\n",
    "    lastname varchar(32) default NULL,\n",
    "    city varchar(32) default NULL,\n",
    "    address varchar(128) default NULL,\n",
    "    email varchar(128) default NULL,\n",
    "\n",
    "    PRIMARY KEY (customer_id) )\n",
    "''')\n",
    "\n",
    "# Laptops Table\n",
    "con.execute('''\n",
    "CREATE TABLE IF NOT EXISTS laptops (\n",
    "    model char(4) NOT NULL default '',\n",
    "    speed double default NULL,\n",
    "    ram int default NULL,\n",
    "    hd int default NULL,\n",
    "    screen double default NULL,\n",
    "    price double default NULL,\n",
    "\n",
    "    PRIMARY KEY  (model) )\n",
    "''')\n",
    "\n",
    "# PCs Table\n",
    "con.execute('''\n",
    "CREATE TABLE IF NOT EXISTS pcs (\n",
    "    model char(4) NOT NULL,\n",
    "    speed double NOT NULL,\n",
    "    ram int NOT NULL,\n",
    "    hd int NOT NULL,\n",
    "    price double NOT NULL,\n",
    "\n",
    "    PRIMARY KEY  (model) )\n",
    "''')\n",
    "\n",
    "# Printers Table\n",
    "con.execute('''CREATE TABLE IF NOT EXISTS printers (\n",
    "    model char(4) NOT NULL default '',\n",
    "    color varchar(5) default NULL,\n",
    "    type varchar(10) default NULL,\n",
    "    price double default NULL,\n",
    "\n",
    "    PRIMARY KEY  (model) )\n",
    "''')\n",
    "\n",
    "# Products Table\n",
    "con.execute('''CREATE TABLE IF NOT EXISTS products (\n",
    "    maker char(1) default NULL,\n",
    "    model char(4) NOT NULL default '',\n",
    "    type varchar(10) default NULL,\n",
    "\n",
    "PRIMARY KEY  (model) )\n",
    "''')\n",
    "\n",
    "# Sales Table\n",
    "con.execute('''CREATE TABLE IF NOT EXISTS sales (\n",
    "    customer_id char(10) NOT NULL default '',\n",
    "    model char(4) NOT NULL default '',\n",
    "    quantity int default NULL,\n",
    "    day date NOT NULL default '0000-00-00',\n",
    "    paid double default NULL,\n",
    "    type_of_payment varchar(32) default NULL,\n",
    "\n",
    "    PRIMARY KEY  (customer_id,model,day) )\n",
    "''')"
   ]
  },
  {
   "cell_type": "markdown",
   "id": "6b52271f",
   "metadata": {},
   "source": [
    "And fill the tables with some example data"
   ]
  },
  {
   "cell_type": "code",
   "execution_count": null,
   "id": "2c8d0f7a",
   "metadata": {},
   "outputs": [],
   "source": [
    "# Customers Table\n",
    "con.execute('''\n",
    "INSERT INTO customers (customer_id, firstname, lastname, city, address, email)\n",
    "VALUES\n",
    "    ('1122334455', 'Ann', 'O''Brien', 'Rotterdam', '1 Jervis St.', 'ann@uva.nl'),\n",
    "    ('1231231231', 'John', 'Doe', 'Amsterdam', NULL, NULL),\n",
    "    ('1234567890', 'Maya', 'Ramanath', 'Diemen', 'Dalsteindreef 3002', NULL),\n",
    "    ('9876543210', 'Ji', 'Zhang', 'Utrecht', 'Jaarbeursplien 24', 'jack@ucc.ie'),\n",
    "    ('9999999999', 'Norah', 'Jones', 'Amsterdam', 'Passheuvelweg 34', 'nj@yahoo.com');\n",
    "''')\n",
    "\n",
    "# Laptops Table\n",
    "con.execute('''\n",
    "INSERT INTO laptops (model, speed, ram, hd, screen, price)\n",
    "VALUES\n",
    "    ('2001', 2, 2048, 240, 20.1, 3673),\n",
    "    ('2002', 1.73, 1024, 80, 17, 949),\n",
    "    ('2003', 1.8, 512, 60, 15.4, 549),\n",
    "    ('2004', 2, 512, 60, 13.3, 1150),\n",
    "    ('2005', 2.16, 1024, 120, 17, 2500),\n",
    "    ('2006', 2, 2048, 80, 15.4, 1700),\n",
    "    ('2007', 1.83, 1024, 120, 13.3, 1429),\n",
    "    ('2008', 1.6, 1024, 100, 15.4, 900),\n",
    "    ('2009', 1.6, 512, 80, 14.1, 680),\n",
    "    ('2010', 2, 2048, 160, 15.4, 2300);\n",
    "''')\n",
    "\n",
    "# PCs Table\n",
    "con.execute('''\n",
    "INSERT INTO pcs (model, speed, ram, hd, price)\n",
    "VALUES\n",
    "    ('1001', 2.66, 1024, 250, 2114),\n",
    "    ('1002', 2.1, 512, 250, 995),\n",
    "    ('1003', 1.42, 512, 80, 478),\n",
    "    ('1004', 2.8, 1024, 250, 649),\n",
    "    ('1005', 3.2, 512, 250, 630),\n",
    "    ('1006', 3.2, 1024, 320, 1049),\n",
    "    ('1007', 2.2, 1024, 200, 510),\n",
    "    ('1008', 2.2, 2048, 250, 770),\n",
    "    ('1009', 2, 1024, 250, 650),\n",
    "    ('1010', 2.8, 2048, 300, 770),\n",
    "    ('1011', 1.86, 2048, 160, 959),\n",
    "    ('1012', 2.8, 1024, 160, 649),\n",
    "    ('1013', 3.06, 512, 80, 529);\n",
    "''')\n",
    "\n",
    "# Printers Table\n",
    "con.execute('''\n",
    "INSERT INTO printers (model, color, type, price)\n",
    "VALUES\n",
    "    ('3001', 'TRUE', 'ink-jet', 99),\n",
    "    ('3002', 'FALSE', 'laser', 239),\n",
    "    ('3003', 'TRUE', 'laser', 899),\n",
    "    ('3004', 'TRUE', 'ink-jet', 120),\n",
    "    ('3005', 'FALSE', 'laser', 120),\n",
    "    ('3006', 'TRUE', 'ink-jet', 100),\n",
    "    ('3007', 'TRUE', 'laser', 200);\n",
    "''')\n",
    "\n",
    "# Products Table\n",
    "con.execute('''\n",
    "INSERT INTO products (maker, model, type)\n",
    "VALUES\n",
    "    ('A', '1001', 'pc'),\n",
    "    ('A', '1002', 'pc'),\n",
    "    ('A', '1003', 'pc'),\n",
    "    ('B', '1004', 'pc'),\n",
    "    ('B', '1005', 'pc'),\n",
    "    ('B', '1006', 'pc'),\n",
    "    ('C', '1007', 'pc'),\n",
    "    ('D', '1008', 'pc'),\n",
    "    ('D', '1009', 'pc'),\n",
    "    ('D', '1010', 'pc'),\n",
    "    ('E', '1011', 'pc'),\n",
    "    ('E', '1012', 'pc'),\n",
    "    ('E', '1013', 'pc'),\n",
    "    ('E', '2001', 'laptop'),\n",
    "    ('E', '2002', 'laptop'),\n",
    "    ('E', '2003', 'laptop'),\n",
    "    ('A', '2004', 'laptop'),\n",
    "    ('A', '2005', 'laptop'),\n",
    "    ('A', '2006', 'laptop'),\n",
    "    ('B', '2007', 'laptop'),\n",
    "    ('F', '2008', 'laptop'),\n",
    "    ('F', '2009', 'laptop'),\n",
    "    ('G', '2010', 'laptop'),\n",
    "    ('E', '3001', 'printer'),\n",
    "    ('E', '3002', 'printer'),\n",
    "    ('E', '3003', 'printer'),\n",
    "    ('D', '3004', 'printer'),\n",
    "    ('D', '3005', 'printer'),\n",
    "    ('H', '3006', 'printer'),\n",
    "    ('H', '3007', 'printer');\n",
    "''')\n",
    "\n",
    "# Sales Table\n",
    "con.execute('''\n",
    "INSERT INTO sales (customer_id, model, quantity, day, paid, type_of_payment)\n",
    "VALUES\n",
    "    ('1122334455', '2010', 1, '2020-12-19', 2300, 'mastercard credit'),\n",
    "    ('1122334455', '3001', 1, '2020-12-18', 99, 'cash'),\n",
    "    ('1231231231', '2002', 2, '2020-12-19', 1898, 'visa credit'),\n",
    "    ('1231231231', '3002', 1, '2020-12-18', 239, 'cash'),\n",
    "    ('1234567890', '1001', 1, '2020-12-20', 1902.6, 'mastercard credit'),\n",
    "    ('9876543210', '1007', 1, '2020-12-17', 510, 'visa debit'),\n",
    "    ('9876543210', '1007', 3, '2020-12-19', 1530, 'visa debit'),\n",
    "    ('9876543210', '2002', 1, '2020-12-17', 949, 'visa debit'),\n",
    "    ('9999999999', '1007', 1, '2020-12-20', 459, 'visa credit'),\n",
    "    ('9999999999', '3007', 2, '2020-12-20', 360, 'visa credit');\n",
    "''')"
   ]
  },
  {
   "cell_type": "markdown",
   "id": "5599752d",
   "metadata": {},
   "source": [
    "Now, we can query the database using SQL and convert the results to pandas dataframes to look at them:"
   ]
  },
  {
   "cell_type": "code",
   "execution_count": null,
   "id": "048b1d98",
   "metadata": {},
   "outputs": [],
   "source": [
    "products = con.execute(\"SELECT * FROM products\").fetchdf()\n",
    "products"
   ]
  },
  {
   "cell_type": "code",
   "execution_count": null,
   "id": "6aae8110",
   "metadata": {},
   "outputs": [],
   "source": [
    "pcs = con.execute(\"SELECT * FROM pcs\").fetchdf()\n",
    "pcs"
   ]
  },
  {
   "cell_type": "code",
   "execution_count": null,
   "id": "06773dac",
   "metadata": {},
   "outputs": [],
   "source": [
    "printers = con.execute(\"SELECT * FROM printers\").fetchdf()\n",
    "printers"
   ]
  },
  {
   "cell_type": "code",
   "execution_count": null,
   "id": "82b779ce",
   "metadata": {},
   "outputs": [],
   "source": [
    "sales = con.execute(\"SELECT * FROM sales\").fetchdf()\n",
    "sales"
   ]
  },
  {
   "cell_type": "code",
   "execution_count": null,
   "id": "4534860f",
   "metadata": {},
   "outputs": [],
   "source": [
    "customers = con.execute(\"SELECT * FROM customers\").fetchdf()\n",
    "customers"
   ]
  },
  {
   "cell_type": "code",
   "execution_count": null,
   "id": "ce0ea4c9",
   "metadata": {},
   "outputs": [],
   "source": [
    "laptops = con.execute(\"SELECT * FROM laptops\").fetchdf()\n",
    "laptops"
   ]
  },
  {
   "cell_type": "markdown",
   "id": "fd770a9d",
   "metadata": {},
   "source": [
    "The following helper function allows us to run queries on the database:"
   ]
  },
  {
   "cell_type": "code",
   "execution_count": null,
   "id": "76665ea3",
   "metadata": {},
   "outputs": [],
   "source": [
    "def execute_local(query):\n",
    "    con = duckdb.connect(database=':memory:', read_only=False)\n",
    "    con.register('products', products)\n",
    "    con.register('customers', customers)\n",
    "    con.register('sales',sales)\n",
    "    con.register('laptops',laptops)\n",
    "    con.register('pcs',pcs)\n",
    "\n",
    "    result = con.execute(query).fetchdf()\n",
    "\n",
    "    return result"
   ]
  },
  {
   "cell_type": "markdown",
   "id": "bfde7be2",
   "metadata": {},
   "source": [
    "This code is required to display things in a nicer way."
   ]
  },
  {
   "cell_type": "code",
   "execution_count": null,
   "id": "dc26547f",
   "metadata": {},
   "outputs": [],
   "source": [
    "%%html\n",
    "<style>\n",
    "  table {margin-left: 0 !important;}\n",
    "</style>"
   ]
  },
  {
   "cell_type": "markdown",
   "id": "56fda07d",
   "metadata": {},
   "source": [
    "## Part A: Basic SQL Select Queries\n",
    "\n",
    "In the following, we ask you to write a set of SQL queries for querying the database.\n"
   ]
  },
  {
   "cell_type": "markdown",
   "id": "11707a0d",
   "metadata": {},
   "source": [
    "### Task 1. List only the model number of all products made by maker B."
   ]
  },
  {
   "cell_type": "code",
   "execution_count": null,
   "id": "0e624460",
   "metadata": {},
   "outputs": [],
   "source": [
    "def a1a_t1_all_model_number_b():\n",
    "    \"\"\"List only the model number of all products made by maker B.\n",
    "    \"\"\"\n",
    "    #################\n",
    "    ### YOUR CODE ###\n",
    "    #################\n",
    "    query = \"\"\n",
    "\n",
    "    return query"
   ]
  },
  {
   "cell_type": "markdown",
   "id": "39ae4ab9",
   "metadata": {},
   "source": [
    "You can test your query by running it on our local database via the `execute_local` function and inspecting the results.\n",
    "\n",
    "We expect the following result:\n",
    "\n",
    "|__model__|\n",
    "|---|\n",
    "|1004|\n",
    "|1005|\n",
    "|1006|\n",
    "|2007|\n"
   ]
  },
  {
   "cell_type": "code",
   "execution_count": null,
   "id": "b433b41d",
   "metadata": {},
   "outputs": [],
   "source": [
    "execute_local(a1a_t1_all_model_number_b())"
   ]
  },
  {
   "cell_type": "code",
   "execution_count": null,
   "id": "17767741",
   "metadata": {},
   "outputs": [],
   "source": [
    "am.test_student_function(a1a_t1_all_model_number_b)"
   ]
  },
  {
   "cell_type": "markdown",
   "id": "e1edeee2",
   "metadata": {},
   "source": [
    "### Task 2. List the model numbers of all products not made by maker B."
   ]
  },
  {
   "cell_type": "code",
   "execution_count": null,
   "id": "ecf9cf9e",
   "metadata": {},
   "outputs": [],
   "source": [
    "def a1a_t2_all_model_number_not_b():\n",
    "    \"\"\"List the model numbers of all products not made by maker B.\"\"\"\n",
    "    #################\n",
    "    ### YOUR CODE ###\n",
    "    #################\n",
    "    query = \"\"\n",
    "\n",
    "    return query"
   ]
  },
  {
   "cell_type": "markdown",
   "id": "b65d2bcd",
   "metadata": {},
   "source": [
    "You can test your query by running it on our local database via the `execute_local` function and inspecting the results.\n",
    "\n",
    "We expect the following result:\n",
    "\n",
    "|__model__|\n",
    "|---|\n",
    "|1001|\n",
    "|1002|\n",
    "|1003|\n",
    "|1007|\n",
    "|1008|\n",
    "|1009|\n",
    "|1010|\n",
    "|1011|\n",
    "|1012|\n",
    "|1013|\n",
    "|2001|\n",
    "|2002|\n",
    "|2003|\n",
    "|2004|\n",
    "|2005|\n",
    "|2006|\n",
    "|2008|\n",
    "|2009|\n",
    "|2010|\n",
    "|3001|\n",
    "|3002|\n",
    "|3003|\n",
    "|3004|\n",
    "|3005|\n",
    "|3006|\n",
    "|3007|"
   ]
  },
  {
   "cell_type": "code",
   "execution_count": null,
   "id": "10027177",
   "metadata": {},
   "outputs": [],
   "source": [
    "execute_local(a1a_t2_all_model_number_not_b())"
   ]
  },
  {
   "cell_type": "code",
   "execution_count": null,
   "id": "47fbe074",
   "metadata": {},
   "outputs": [],
   "source": [
    "am.test_student_function(a1a_t2_all_model_number_not_b)"
   ]
  },
  {
   "cell_type": "markdown",
   "id": "2268b094",
   "metadata": {},
   "source": [
    "###  Task 3. Return the average speed of all PCs with speed >=3.00."
   ]
  },
  {
   "cell_type": "code",
   "execution_count": null,
   "id": "ef90d554",
   "metadata": {},
   "outputs": [],
   "source": [
    "def a1a_t3_avg_PCs_speed():\n",
    "    \"\"\"Return the average speed all PCs with speed >= 3.00\"\"\"\n",
    "    #################\n",
    "    ### YOUR CODE ###\n",
    "    #################\n",
    "    query = \"\"\n",
    "\n",
    "    return query"
   ]
  },
  {
   "cell_type": "markdown",
   "id": "83842922",
   "metadata": {},
   "source": [
    "You can test your query by running it on our local database via the `execute_local` function and inspecting the results.\n",
    "\n",
    "We expect the following result:\n",
    "\n",
    "|__avg(speed)__|\n",
    "|---|\n",
    "|3.153333|"
   ]
  },
  {
   "cell_type": "code",
   "execution_count": null,
   "id": "e757fc9b",
   "metadata": {},
   "outputs": [],
   "source": [
    "execute_local(a1a_t3_avg_PCs_speed())"
   ]
  },
  {
   "cell_type": "code",
   "execution_count": null,
   "id": "e6920581",
   "metadata": {},
   "outputs": [],
   "source": [
    "am.test_student_function(a1a_t3_avg_PCs_speed)"
   ]
  },
  {
   "cell_type": "markdown",
   "id": "beb1d33d",
   "metadata": {},
   "source": [
    "###  Task 4. Return the price of the most expensive color laser printer."
   ]
  },
  {
   "cell_type": "code",
   "execution_count": null,
   "id": "71f3642d",
   "metadata": {},
   "outputs": [],
   "source": [
    "def a1a_t4_max_printer_price():\n",
    "    \"\"\"Return the price of the most expensive color laser printer\"\"\"\n",
    "    #################\n",
    "    ### YOUR CODE ###\n",
    "    #################\n",
    "    query = \"\"\n",
    "\n",
    "    return query"
   ]
  },
  {
   "cell_type": "markdown",
   "id": "3bdd066f",
   "metadata": {},
   "source": [
    "You can test your query by running it on our local database via the `execute_local` function and inspecting the results.\n",
    "\n",
    "We expect the following result:\n",
    "\n",
    "|__max(price)__|\n",
    "|---|\n",
    "|899.0|"
   ]
  },
  {
   "cell_type": "code",
   "execution_count": null,
   "id": "38f43466",
   "metadata": {},
   "outputs": [],
   "source": [
    "execute_local(a1a_t4_max_printer_price())"
   ]
  },
  {
   "cell_type": "code",
   "execution_count": null,
   "id": "4ef1f5c0",
   "metadata": {},
   "outputs": [],
   "source": [
    "am.test_student_function(a1a_t4_max_printer_price)"
   ]
  },
  {
   "cell_type": "markdown",
   "id": "c7d21ec5",
   "metadata": {},
   "source": [
    "###  Task 5. Return the minimum amount paid by customers who used a visa card (debit or credit) to purchase a product."
   ]
  },
  {
   "cell_type": "code",
   "execution_count": null,
   "id": "ab85b000",
   "metadata": {},
   "outputs": [],
   "source": [
    "def a1a_t5_min_spending_visa():\n",
    "    \"\"\"Return the minimum amount paid by customers who used a visa card (debit or credit) to purchase a product\"\"\"\n",
    "    #################\n",
    "    ### YOUR CODE ###\n",
    "    #################\n",
    "    query = \"\"\n",
    "\n",
    "    return query"
   ]
  },
  {
   "cell_type": "markdown",
   "id": "a0958ffb",
   "metadata": {},
   "source": [
    "You can test your query by running it on our local database via the `execute_local` function and inspecting the results.\n",
    "\n",
    "We expect the following result:\n",
    "\n",
    "|__min(paid)__|\n",
    "|---|\n",
    "|360.0|"
   ]
  },
  {
   "cell_type": "code",
   "execution_count": null,
   "id": "c90e6770",
   "metadata": {},
   "outputs": [],
   "source": [
    "execute_local(a1a_t5_min_spending_visa())"
   ]
  },
  {
   "cell_type": "code",
   "execution_count": null,
   "id": "6f195291",
   "metadata": {},
   "outputs": [],
   "source": [
    "am.test_student_function(a1a_t5_min_spending_visa)"
   ]
  },
  {
   "cell_type": "markdown",
   "id": "3c918481",
   "metadata": {},
   "source": [
    "### Task 6. Find the `customer_id` of customers who have the letter 'e' either in their first name or in their last name."
   ]
  },
  {
   "cell_type": "code",
   "execution_count": null,
   "id": "7dae2496",
   "metadata": {},
   "outputs": [],
   "source": [
    "def a1a_t6_customer_id():\n",
    "    \"\"\"Find the customer_id of customers who have the letter 'e' either in their first name\n",
    "       or in their last name\"\"\"\n",
    "    #################\n",
    "    ### YOUR CODE ###\n",
    "    #################\n",
    "    query = \"\"\n",
    "\n",
    "    return query"
   ]
  },
  {
   "cell_type": "markdown",
   "id": "572d6fc9",
   "metadata": {},
   "source": [
    "You can test your query by running it on our local database via the `execute_local` function and inspecting the results.\n",
    "\n",
    "We expect the following result:\n",
    "\n",
    "|__customer_id__|\n",
    "|---|\n",
    "|1122334455|\n",
    "|1231231231|\n",
    "|9999999999|"
   ]
  },
  {
   "cell_type": "code",
   "execution_count": null,
   "id": "40b0e167",
   "metadata": {},
   "outputs": [],
   "source": [
    "execute_local(a1a_t6_customer_id())"
   ]
  },
  {
   "cell_type": "code",
   "execution_count": null,
   "id": "a5f05f15",
   "metadata": {},
   "outputs": [],
   "source": [
    "am.test_student_function(a1a_t6_customer_id)"
   ]
  },
  {
   "cell_type": "markdown",
   "id": "b61833ab",
   "metadata": {},
   "source": [
    "### Task 7. Assume all prices in the Laptops table are in Euro. List the model numbers of all laptops with ram at least 1024. For each model, list also its price in USD. Assume that 1 USD = 0.85 EURO. Name the price column 'price (USD)'."
   ]
  },
  {
   "cell_type": "code",
   "execution_count": null,
   "id": "90b83e3c",
   "metadata": {},
   "outputs": [],
   "source": [
    "def a1a_t7_highest_price_USD():\n",
    "    \"\"\"Assume all prices in the table Laptops are in Euro. List the prices of laptops with at least 1024 ram.\n",
    "    You should return the price in USD in a column called 'price (USD)'. Assume that 1 USD = 0.85 EURO.\n",
    "    Name the price column 'price (USD)'.\n",
    "    \"\"\"\n",
    "    #################\n",
    "    ### YOUR CODE ###\n",
    "    #################\n",
    "    query = \"\"\n",
    "\n",
    "    return query"
   ]
  },
  {
   "cell_type": "markdown",
   "id": "7bcc6c8e",
   "metadata": {},
   "source": [
    "You can test your query by running it on our local database via the `execute_local` function and inspecting the results.\n",
    "\n",
    "We expect the following result:\n",
    "\n",
    "|__model__|__price (USD)__|\n",
    "|---|---|\n",
    "|2001|4321.176471|\n",
    "|2002|1116.470588|\n",
    "|2005|2941.176471|\n",
    "|2006|2000.000000|\n",
    "|2007|1681.176471|\n",
    "|2008|1058.823529|\n",
    "|2010|2705.882353|"
   ]
  },
  {
   "cell_type": "code",
   "execution_count": null,
   "id": "02619e23",
   "metadata": {},
   "outputs": [],
   "source": [
    "execute_local(a1a_t7_highest_price_USD())"
   ]
  },
  {
   "cell_type": "code",
   "execution_count": null,
   "id": "db83a906",
   "metadata": {},
   "outputs": [],
   "source": [
    "am.test_student_function(a1a_t7_highest_price_USD)"
   ]
  },
  {
   "cell_type": "markdown",
   "id": "c864d953",
   "metadata": {},
   "source": [
    "## Part B: SQL queries involving joins and grouping"
   ]
  },
  {
   "cell_type": "markdown",
   "id": "f9ff3545",
   "metadata": {},
   "source": [
    "### Task 1"
   ]
  },
  {
   "cell_type": "markdown",
   "id": "f9786d50",
   "metadata": {},
   "source": [
    "### Task 1a. Return a list of makers that make more than four different products."
   ]
  },
  {
   "cell_type": "code",
   "execution_count": null,
   "id": "6568e172",
   "metadata": {},
   "outputs": [],
   "source": [
    "def a1b_t1a_at_least_four_products():\n",
    "    \"\"\"Return a list of makers that make more than four different products.\n",
    "    \"\"\"\n",
    "    #################\n",
    "    ### YOUR CODE ###\n",
    "    #################\n",
    "    query = \"\"\n",
    "\n",
    "    return query"
   ]
  },
  {
   "cell_type": "markdown",
   "id": "b9ac555f",
   "metadata": {},
   "source": [
    "You can test your query by running it on our local database via the `execute_local` function and inspecting the results.\n",
    "\n",
    "We expect the following result:\n",
    "\n",
    "|__maker__|\n",
    "|---|\n",
    "|A|\n",
    "|D|\n",
    "|E|"
   ]
  },
  {
   "cell_type": "code",
   "execution_count": null,
   "id": "37a75840",
   "metadata": {},
   "outputs": [],
   "source": [
    "execute_local(a1b_t1a_at_least_four_products())"
   ]
  },
  {
   "cell_type": "code",
   "execution_count": null,
   "id": "c89807da",
   "metadata": {},
   "outputs": [],
   "source": [
    "am.test_student_function(a1b_t1a_at_least_four_products)"
   ]
  },
  {
   "cell_type": "markdown",
   "id": "790eff41",
   "metadata": {},
   "source": [
    "### Task 1b. List all the laptop model numbers that have a speed greater than 1.7 in descending order."
   ]
  },
  {
   "cell_type": "code",
   "execution_count": null,
   "id": "95cff257",
   "metadata": {},
   "outputs": [],
   "source": [
    "def a1b_t1b_decending_speed_laptop():\n",
    "    \"\"\" List all the laptop model numbers that have a speed greater than 1.7 in descending order.\n",
    "    \"\"\"\n",
    "    #################\n",
    "    ### YOUR CODE ###\n",
    "    #################\n",
    "    query = \"\"\n",
    "\n",
    "    return query"
   ]
  },
  {
   "cell_type": "markdown",
   "id": "2814eb32",
   "metadata": {},
   "source": [
    "You can test your query by running it on our local database via the `execute_local` function and inspecting the results.\n",
    "\n",
    "We expect the following result:\n",
    "\n",
    "|__model__|\n",
    "|---|\n",
    "|2005|\n",
    "|2001|\n",
    "|2004|\n",
    "|2006|\n",
    "|2010|\n",
    "|2007|\n",
    "|2003|\n",
    "|2002|"
   ]
  },
  {
   "cell_type": "code",
   "execution_count": null,
   "id": "120908db",
   "metadata": {},
   "outputs": [],
   "source": [
    "execute_local(a1b_t1b_decending_speed_laptop())"
   ]
  },
  {
   "cell_type": "code",
   "execution_count": null,
   "id": "6f8f67ec",
   "metadata": {},
   "outputs": [],
   "source": [
    "am.test_student_function(a1b_t1b_decending_speed_laptop)"
   ]
  },
  {
   "cell_type": "markdown",
   "id": "c333a6bb",
   "metadata": {},
   "source": [
    "### Task 1c. List all first names of customers in an ascending order based on the number of purchases made by customers with that first name."
   ]
  },
  {
   "cell_type": "code",
   "execution_count": null,
   "id": "2a7e5447",
   "metadata": {},
   "outputs": [],
   "source": [
    "def a1b_t1c_customer_number_purchase():\n",
    "    \"\"\" List firstnames of customers in an ascending order\n",
    "    based on the number of purchases made by customers with this firstname.\n",
    "    \"\"\"\n",
    "    #################\n",
    "    ### YOUR CODE ###\n",
    "    #################\n",
    "    query = \"\"\n",
    "\n",
    "    return query"
   ]
  },
  {
   "cell_type": "markdown",
   "id": "c19030aa",
   "metadata": {},
   "source": [
    "You can test your query by running it on our local database via the `execute_local` function and inspecting the results.\n",
    "\n",
    "We expect the following result:\n",
    "\n",
    "|__firstname__|\n",
    "|---|\n",
    "|Maya|\n",
    "|Ann|\n",
    "|John|\n",
    "|Nora|\n",
    "|Ji|"
   ]
  },
  {
   "cell_type": "code",
   "execution_count": null,
   "id": "1a7d379a",
   "metadata": {},
   "outputs": [],
   "source": [
    "execute_local(a1b_t1c_customer_number_purchase())"
   ]
  },
  {
   "cell_type": "code",
   "execution_count": null,
   "id": "bd7c6660",
   "metadata": {},
   "outputs": [],
   "source": [
    "am.test_student_function(a1b_t1c_customer_number_purchase)"
   ]
  },
  {
   "cell_type": "markdown",
   "id": "143c5b33",
   "metadata": {},
   "source": [
    "### Task 1d. List all the makers (with only one entry per maker) who make PCs with RAM greater than 1500."
   ]
  },
  {
   "cell_type": "code",
   "execution_count": null,
   "id": "81174ba7",
   "metadata": {},
   "outputs": [],
   "source": [
    "def a1b_t1d_maker_with_ram():\n",
    "    \"\"\" List all the makers (with only one entry per maker) who make PCs with RAM greater than 1500.\n",
    "    \"\"\"\n",
    "    #################\n",
    "    ### YOUR CODE ###\n",
    "    #################\n",
    "    query = \"\"\n",
    "\n",
    "    return query"
   ]
  },
  {
   "cell_type": "markdown",
   "id": "a00ce340",
   "metadata": {},
   "source": [
    "You can test your query by running it on our local database via the `execute_local` function and inspecting the results.\n",
    "\n",
    "We expect the following result:\n",
    "\n",
    "|__maker__|\n",
    "|---|\n",
    "|D|\n",
    "|E|"
   ]
  },
  {
   "cell_type": "code",
   "execution_count": null,
   "id": "49336a73",
   "metadata": {},
   "outputs": [],
   "source": [
    "execute_local(a1b_t1d_maker_with_ram())"
   ]
  },
  {
   "cell_type": "code",
   "execution_count": null,
   "id": "108bbb2d",
   "metadata": {},
   "outputs": [],
   "source": [
    "am.test_student_function(a1b_t1d_maker_with_ram)"
   ]
  },
  {
   "cell_type": "markdown",
   "id": "d389d825",
   "metadata": {},
   "source": [
    "### Task 2\n",
    "\n",
    "Write SQL SELECT statements for performing the following queries. Use aggregations and group by.\n",
    "\n",
    "### Task 2a. Find the city and the average amount of money spent by customers in each city. Name the column for the amount 'avg_spend'."
   ]
  },
  {
   "cell_type": "code",
   "execution_count": null,
   "id": "f0a8e9a6",
   "metadata": {},
   "outputs": [],
   "source": [
    "def a1b_t2a_avg_money_spent():\n",
    "    \"\"\" Find the city and the average amount of money spent by customers in each city.\n",
    "        Name the column for the amount 'avg_spend'\n",
    "    \"\"\"\n",
    "    #################\n",
    "    ### YOUR CODE ###\n",
    "    #################\n",
    "    query = \"\"\n",
    "\n",
    "    return query"
   ]
  },
  {
   "cell_type": "markdown",
   "id": "1ba105b0",
   "metadata": {},
   "source": [
    "You can test your query by running it on our local database via the `execute_local` function and inspecting the results.\n",
    "\n",
    "We expect the following result:\n",
    "\n",
    "|__city__|__avg_spend__|\n",
    "|---|---|\n",
    "|Rotterdam|1199.500000|\n",
    "|Amsterdam|739.000000|\n",
    "|Diemen|1902.600000|\n",
    "|Utrecht|996.333333|"
   ]
  },
  {
   "cell_type": "code",
   "execution_count": null,
   "id": "3b3e3b81",
   "metadata": {},
   "outputs": [],
   "source": [
    "execute_local(a1b_t2a_avg_money_spent())"
   ]
  },
  {
   "cell_type": "code",
   "execution_count": null,
   "id": "152064ca",
   "metadata": {},
   "outputs": [],
   "source": [
    "am.test_student_function(a1b_t2a_avg_money_spent)"
   ]
  },
  {
   "cell_type": "markdown",
   "id": "c46ce8bf",
   "metadata": {},
   "source": [
    "###  Task 2b. Find the maximum price for both color and non-color printers. Name the column for the maximum price 'max_price'."
   ]
  },
  {
   "cell_type": "code",
   "execution_count": null,
   "id": "794e236c",
   "metadata": {},
   "outputs": [],
   "source": [
    "def a1b_t2b_maximum_price_printer():\n",
    "    \"\"\" Find the maximum price for both a color and non-color printers.\n",
    "        Name the column for the maximum price 'max_price'.\n",
    "    \"\"\"\n",
    "    #################\n",
    "    ### YOUR CODE ###\n",
    "    #################\n",
    "    query = \"\"\n",
    "\n",
    "    return query"
   ]
  },
  {
   "cell_type": "markdown",
   "id": "1fc705f7",
   "metadata": {},
   "source": [
    "You can test your query by running it on our local database via the `execute_local` function and inspecting the results.\n",
    "\n",
    "We expect the following result:\n",
    "\n",
    "|__color__|__max_price__|\n",
    "|---|---|\n",
    "|TRUE|899.0|\n",
    "|FALSE|239.0|"
   ]
  },
  {
   "cell_type": "code",
   "execution_count": null,
   "id": "526f0b68",
   "metadata": {},
   "outputs": [],
   "source": [
    "execute_local(a1b_t2b_maximum_price_printer())"
   ]
  },
  {
   "cell_type": "code",
   "execution_count": null,
   "id": "c0018a85",
   "metadata": {},
   "outputs": [],
   "source": [
    "am.test_student_function(a1b_t2b_maximum_price_printer)"
   ]
  }
 ],
 "metadata": {
  "kernelspec": {
   "display_name": "Python 3 (ipykernel)",
   "language": "python",
   "name": "python3"
  },
  "language_info": {
   "codemirror_mode": {
    "name": "ipython",
    "version": 3
   },
   "file_extension": ".py",
   "mimetype": "text/x-python",
   "name": "python",
   "nbconvert_exporter": "python",
   "pygments_lexer": "ipython3",
   "version": "3.9.5"
  }
 },
 "nbformat": 4,
 "nbformat_minor": 5
}
